{
 "cells": [
  {
   "cell_type": "code",
   "execution_count": 6,
   "id": "green-people",
   "metadata": {},
   "outputs": [],
   "source": [
    "public abstract class A\n",
    "{\n",
    "    public String metodoEnClaseA()\n",
    "    {\n",
    "        return \"metodo en clase a\";\n",
    "    }\n",
    "    public String toString()\n",
    "    {\n",
    "        return \"La clase A\";\n",
    "    }\n",
    "}\n",
    "\n",
    "public class B extends A\n",
    "{\n",
    "    public String toString()\n",
    "    {\n",
    "        return \"la clase B, hereda de \"+ super.toString();\n",
    "    }\n",
    "}\n",
    "\n",
    "public class C extends A\n",
    "{\n",
    "    public String toString()\n",
    "    {\n",
    "        return \"la clase C, hereda de \"+ super.toString();\n",
    "    }\n",
    "\n",
    "    public String metodoEnClaseA()\n",
    "    {\n",
    "        return \"metodo sobrecargado de la clase A, en la clase C\";\n",
    "    }\n",
    "}"
   ]
  },
  {
   "cell_type": "markdown",
   "id": "animal-annex",
   "metadata": {},
   "source": [
    "Una clase abstracta no significa que sus métodos tengan que ser abstractos, pero un método definido como abstracto siempre tendrá que ir en una clase abstracta o en un interfaz. "
   ]
  },
  {
   "cell_type": "code",
   "execution_count": 7,
   "id": "alpine-checklist",
   "metadata": {},
   "outputs": [
    {
     "data": {
      "text/plain": [
       "la clase B, hereda de La clase A"
      ]
     },
     "execution_count": 7,
     "metadata": {},
     "output_type": "execute_result"
    }
   ],
   "source": [
    "B b = new B();\n",
    "b"
   ]
  },
  {
   "cell_type": "code",
   "execution_count": 8,
   "id": "precise-negative",
   "metadata": {},
   "outputs": [
    {
     "data": {
      "text/plain": [
       "metodo sobrecargado de la clase A, en la clase C"
      ]
     },
     "execution_count": 8,
     "metadata": {},
     "output_type": "execute_result"
    }
   ],
   "source": [
    "C c = new C();\n",
    "c.metodoEnClaseA();"
   ]
  },
  {
   "cell_type": "code",
   "execution_count": null,
   "id": "legitimate-breakfast",
   "metadata": {},
   "outputs": [],
   "source": []
  }
 ],
 "metadata": {
  "kernelspec": {
   "display_name": "Java",
   "language": "java",
   "name": "java"
  },
  "language_info": {
   "codemirror_mode": "java",
   "file_extension": ".jshell",
   "mimetype": "text/x-java-source",
   "name": "Java",
   "pygments_lexer": "java",
   "version": "15.0.2+7-27"
  }
 },
 "nbformat": 4,
 "nbformat_minor": 5
}
