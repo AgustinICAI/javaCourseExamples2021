{
 "cells": [
  {
   "cell_type": "code",
   "execution_count": 7,
   "id": "dominant-cedar",
   "metadata": {},
   "outputs": [],
   "source": [
    "public class A\n",
    "{\n",
    "    public String toString()\n",
    "    {\n",
    "        return \"La clase A\";\n",
    "    }\n",
    "}\n",
    "\n",
    "\n",
    "public interface I1 \n",
    "{\n",
    "    String metodoAbstracto();\n",
    "}\n",
    "\n",
    "public class B extends A implements I1\n",
    "{\n",
    "    public String toString()\n",
    "    {\n",
    "        return \"la clase B, hereda de \"+ super.toString();\n",
    "    }\n",
    "    public String metodoAbstracto()\n",
    "    {\n",
    "        return \"Soy un método abstracto\";\n",
    "    }\n",
    "}"
   ]
  },
  {
   "cell_type": "code",
   "execution_count": 9,
   "id": "silver-exemption",
   "metadata": {},
   "outputs": [
    {
     "data": {
      "text/plain": [
       "La clase A"
      ]
     },
     "execution_count": 9,
     "metadata": {},
     "output_type": "execute_result"
    }
   ],
   "source": [
    "A a = new A();\n",
    "a.toString();"
   ]
  },
  {
   "cell_type": "code",
   "execution_count": null,
   "id": "existing-intranet",
   "metadata": {},
   "outputs": [],
   "source": [
    "Un tipo de polimorfismo es en la herencia. Cabe destacar que aunque se realice Upcasting, El objeto B siempre seguirá siendo el objeto B."
   ]
  },
  {
   "cell_type": "code",
   "execution_count": 10,
   "id": "local-bailey",
   "metadata": {},
   "outputs": [
    {
     "data": {
      "text/plain": [
       "la clase B, hereda de La clase A"
      ]
     },
     "execution_count": 10,
     "metadata": {},
     "output_type": "execute_result"
    }
   ],
   "source": [
    "A a = new B();\n",
    "a.toString();"
   ]
  },
  {
   "cell_type": "markdown",
   "id": "occasional-letters",
   "metadata": {},
   "source": [
    "El upcasting es sólo una generalización!!\n",
    "\n",
    "El upcasting también puede ser aplicado a un interfaz"
   ]
  },
  {
   "cell_type": "code",
   "execution_count": 14,
   "id": "rational-documentation",
   "metadata": {},
   "outputs": [
    {
     "data": {
      "text/plain": [
       "la clase B, hereda de La clase A"
      ]
     },
     "execution_count": 14,
     "metadata": {},
     "output_type": "execute_result"
    }
   ],
   "source": [
    "I1 i = new B();\n",
    "i; //En el tratamiento de Strings (en nuestro caso para sacarlo por pantalla en este notebook), java siempre buscará el método toString."
   ]
  },
  {
   "cell_type": "code",
   "execution_count": 16,
   "id": "compliant-protocol",
   "metadata": {},
   "outputs": [
    {
     "data": {
      "text/plain": [
       "Soy un método abstracto"
      ]
     },
     "execution_count": 16,
     "metadata": {},
     "output_type": "execute_result"
    }
   ],
   "source": [
    "i.metodoAbstracto();"
   ]
  }
 ],
 "metadata": {
  "kernelspec": {
   "display_name": "Java",
   "language": "java",
   "name": "java"
  },
  "language_info": {
   "codemirror_mode": "java",
   "file_extension": ".jshell",
   "mimetype": "text/x-java-source",
   "name": "Java",
   "pygments_lexer": "java",
   "version": "15.0.2+7-27"
  }
 },
 "nbformat": 4,
 "nbformat_minor": 5
}
