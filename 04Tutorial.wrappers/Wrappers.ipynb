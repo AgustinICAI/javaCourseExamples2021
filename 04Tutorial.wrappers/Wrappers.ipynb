{
 "cells": [
  {
   "cell_type": "markdown",
   "metadata": {},
   "source": [
    "# Wrappers"
   ]
  },
  {
   "cell_type": "markdown",
   "metadata": {},
   "source": [
    "Los Wrappers proporcionan una forma de utilizar tipos de datos primitivos (int, booleanos, etc.) como objetos.\n",
    "\n",
    "La siguiente tabla muestra el tipo primitivo y la clase contenedora equivalente:\n",
    "\n",
    "| Data Type | Default Value | Default size | Wrapper class |\n",
    "| --- | --- | --- | --- |\n",
    "| boolean | false | 1 bit | Boolean |\n",
    "| char | '\\u0000'| 2 byte | Character |\n",
    "| byte | 0 | 1 byte | Byte |\n",
    "| short | 0 | 2 byte | Short |\n",
    "| int | 0 | 4 byte | Integer |\n",
    "| long | 0L | 8 byte | Long |\n",
    "| float | 0.0f | 4 byte | Float |\n",
    "| double | 0.0d | 8 byte | Double |\n"
   ]
  },
  {
   "cell_type": "markdown",
   "metadata": {},
   "source": [
    "Para crear nuestro propio objeto \"wrapper\", java permite crearlo directamente a través de la asignación, esto denomina \"Autoboxing\":"
   ]
  },
  {
   "cell_type": "code",
   "execution_count": 13,
   "metadata": {},
   "outputs": [
    {
     "name": "stdout",
     "output_type": "stream",
     "text": [
      "5\n",
      "5.99\n",
      "A\n"
     ]
    }
   ],
   "source": [
    "    Integer i0 = 5;\n",
    "    Double d0 = 5.99d;\n",
    "    Character c0 = 'A';\n",
    "    System.out.println(i0);\n",
    "    System.out.println(d0);\n",
    "    System.out.println(c0);"
   ]
  },
  {
   "cell_type": "markdown",
   "metadata": {},
   "source": [
    "Por debajo Java está realizando la operación de crear un nuevo objeto."
   ]
  },
  {
   "cell_type": "code",
   "execution_count": 12,
   "metadata": {},
   "outputs": [],
   "source": [
    "    Integer i0 = Integer.valueOf(5);\n",
    "    Double d0 = Double.valueOf(5.99d);\n",
    "    Character c0 = Character.valueOf('A');"
   ]
  },
  {
   "cell_type": "markdown",
   "metadata": {},
   "source": [
    "Las características más interesantes de los wrappers, son los métodos que implementa cada clase:\n",
    "- https://docs.oracle.com/en/java/javase/13/docs/api/java.base/java/lang/Integer.html\n",
    "- https://docs.oracle.com/en/java/javase/13/docs/api/java.base/java/lang/Double.html\n",
    "- https://docs.oracle.com/en/java/javase/13/docs/api/java.base/java/lang/Character.html\n",
    "\n",
    "\n",
    "Por ejemplo, los siguientes métodos se utilizan para obtener el valor asociado al objeto wrapper correspondiente: intValue(), byteValue(), shortValue(), longValue(), floatValue(), doubleValue(), charValue(), booleanValue() .\n",
    "\n",
    "El valor del wrapper se puede conseguir por los métodos anteriores, o equivalente al ejemplo anterior, por asignación directa (aunque java por debajo llame al método). Esto se denomina \"Unboxing\""
   ]
  },
  {
   "cell_type": "code",
   "execution_count": 14,
   "metadata": {},
   "outputs": [],
   "source": [
    "    int i1 = i0.intValue();\n",
    "    double d1 = d0.doubleValue();\n",
    "    char c1 = c0.charValue();\n",
    "    i1 = i0;\n",
    "    d1 = d0;\n",
    "    c1 = c0;"
   ]
  },
  {
   "cell_type": "markdown",
   "metadata": {},
   "source": [
    "Otro método útil es el método toString(), que se utiliza para convertir objetos wrappers en cadenas.\n",
    "\n",
    "En el siguiente ejemplo, convertimos un entero en un String"
   ]
  },
  {
   "cell_type": "code",
   "execution_count": 16,
   "metadata": {},
   "outputs": [
    {
     "name": "stdout",
     "output_type": "stream",
     "text": [
      "100\n"
     ]
    }
   ],
   "source": [
    "    Integer i0 = 100;\n",
    "    String s1 = i0.toString();\n",
    "    System.out.println(s1);"
   ]
  },
  {
   "cell_type": "markdown",
   "metadata": {},
   "source": [
    "Aunque si nuestra misión era únicamente sacar el valor del entero por pantalla, podríamos haber hecho directamente"
   ]
  },
  {
   "cell_type": "code",
   "execution_count": 15,
   "metadata": {},
   "outputs": [
    {
     "name": "stdout",
     "output_type": "stream",
     "text": [
      "100\n"
     ]
    }
   ],
   "source": [
    "    Integer i0 = 100;\n",
    "    System.out.println(i0);"
   ]
  },
  {
   "cell_type": "markdown",
   "metadata": {},
   "source": [
    "Otro método interesante, son los Integer.parseInt(String s), Double.parseDouble(String s) que nos permiten convertir desde un String a un Integer o Double. Veremos también, que si no es capaz de realizar la transformación, el objeto devuelve una excepción."
   ]
  },
  {
   "cell_type": "code",
   "execution_count": 18,
   "metadata": {},
   "outputs": [],
   "source": [
    "    Integer i2 = Integer.parseInt(\"123\")\n",
    "    System.out.println(i2);"
   ]
  },
  {
   "cell_type": "code",
   "execution_count": 22,
   "metadata": {},
   "outputs": [
    {
     "ename": "EvalException",
     "evalue": "For input string: \"#123.123\"",
     "output_type": "error",
     "traceback": [
      "\u001b[1m\u001b[31m---------------------------------------------------------------------------\u001b[0m",
      "\u001b[1m\u001b[31mjava.lang.NumberFormatException: For input string: \"#123.123\"\u001b[0m",
      "\u001b[1m\u001b[31m\tat java.base/jdk.internal.math.FloatingDecimal.readJavaFormatString(FloatingDecimal.java:2054)\u001b[0m",
      "\u001b[1m\u001b[31m\tat java.base/jdk.internal.math.FloatingDecimal.parseDouble(FloatingDecimal.java:110)\u001b[0m",
      "\u001b[1m\u001b[31m\tat java.base/java.lang.Double.parseDouble(Double.java:549)\u001b[0m",
      "\u001b[1m\u001b[31m\tat .(#42:1)\u001b[0m"
     ]
    }
   ],
   "source": [
    "    double d2 = Double.parseDouble(\"#123.123\");\n",
    "    System.out.println(d2);"
   ]
  }
 ],
 "metadata": {
  "kernelspec": {
   "display_name": "Java",
   "language": "java",
   "name": "java"
  },
  "language_info": {
   "codemirror_mode": "java",
   "file_extension": ".jshell",
   "mimetype": "text/x-java-source",
   "name": "Java",
   "pygments_lexer": "java",
   "version": "15+36-1562"
  }
 },
 "nbformat": 4,
 "nbformat_minor": 4
}
